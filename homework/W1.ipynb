{
 "cells": [
  {
   "cell_type": "code",
   "execution_count": 1,
   "metadata": {},
   "outputs": [
    {
     "name": "stdout",
     "output_type": "stream",
     "text": [
      "CROSSMYHEART\n"
     ]
    }
   ],
   "source": [
    "#bt1\n",
    "data = '''\n",
    "Come to the\n",
    "River\n",
    "Of my\n",
    "Soulful\n",
    "Sentiments\n",
    "Meandering silently\n",
    "Yearning for release.\n",
    "Hasten\n",
    "Earnestly\n",
    "As my love flows by\n",
    "Rushing through the flood-gates\n",
    "To your heart.\n",
    "'''\n",
    "s = ''\n",
    "i = 0\n",
    "while i < len(data)-1:\n",
    "\tif data[i] == '\\n':\n",
    "\t\ts = s + data[i+1]\n",
    "\ti = i + 1\t\n",
    "\tpass\n",
    "print(s)"
   ]
  },
  {
   "cell_type": "code",
   "execution_count": 2,
   "metadata": {},
   "outputs": [
    {
     "name": "stdout",
     "output_type": "stream",
     "text": [
      "<class 'int'>\n",
      "19950631168807583848837421626835850838234968318861924548520089498529438830221946631919961684036194597899331129423209124271556491349413781117593785932096323957855730046793794526765246551266059895520550086918193311542508608460618104685509074866089624888090489894838009253941633257850621568309473902556912388065225096643874441046759871626985453222868538161694315775629640762836880760732228535091641476183956381458969463899410840960536267821064621427333394036525565649530603142680234969400335934316651459297773279665775606172582031407994198179607378245683762280037302885487251900834464581454650557929601414833921615734588139257095379769119277800826957735674444123062018757836325502728323789270710373802866393031428133241401624195671690574061419654342324638801248856147305207431992259611796250130992860241708340807605932320161268492288496255841312844061536738951487114256315111089745514203313820202931640957596464756010405845841566072044962867016515061920631004186422275908670900574606417856951911456055068251250406007519842261898059237118054444788072906395242548339221982707404473162376760846613033778706039803413197133493654622700563169937455508241780972810983291314403571877524768509857276937926433221599399876886660808368837838027643282775172273657572744784112294389733810861607423253291974813120197604178281965697475898164531258434135959862784130128185406283476649088690521047580882615823961985770122407044330583075869039319604603404973156583208672105913300903752823415539745394397715257455290510212310947321610753474825740775273986348298498340756937955646638621874569499279016572103701364433135817214311791398222983845847334440270964182851005072927748364550578634501100852987812389473928699540834346158807043959118985815145779177143619698728131459483783202081474982171858011389071228250905826817436220577475921417653715687725614904582904992461028630081535583308130101987675856234343538955409175623400844887526162643568648833519463720377293240094456246923254350400678027273837755376406726898636241037491410966718557050759098100246789880178271925953381282421954028302759408448955014676668389697996886241636313376393903373455801407636741877711055384225739499110186468219696581651485130494222369947714763069155468217682876200362777257723781365331611196811280792669481887201298643660768551639860534602297871557517947385246369446923087894265948217008051120322365496288169035739121368338393591756418733850510970271613915439590991598154654417336311656936031122249937969999226781732358023111862644575299135758175008199839236284615249881088960232244362173771618086357015468484058622329792853875623486556440536962622018963571028812361567512543338303270029097668650568557157505516727518899194129711337690149916181315171544007728650573189557450920330185304847113818315407324053319038462084036421763703911550639789000742853672196280903477974533320468368795868580237952218629120080742819551317948157624448298518461509704888027274721574688131594750409732115080498190455803416826949787141316063210686391511681774304792596709376\n",
      "13561\n"
     ]
    }
   ],
   "source": [
    "#bt2\n",
    "a = 2**10000\n",
    "print(type(a))\n",
    "print(a)\n",
    "sum = 0\n",
    "while a // 10 != 0:\n",
    "\tsum = sum + (a%10)\n",
    "\t#print(sum)\n",
    "\ta = a//10\n",
    "sum = sum + a%10\n",
    "print(sum)\t"
   ]
  },
  {
   "cell_type": "code",
   "execution_count": 3,
   "metadata": {},
   "outputs": [
    {
     "name": "stdout",
     "output_type": "stream",
     "text": [
      "Người theo hương hoa mây mù giăng lối\n",
      "Làn  sương khói phôi phai  đưa bước ai xa rồi \n",
      "Đơn côi mình ta vấn vương hồi ức trong  men say chiều mưa buồn \n",
      "Ngăn giọt lệ ngừng khiến khoé mi sầu bi \n"
     ]
    }
   ],
   "source": [
    "#bt3\n",
    "import string\n",
    "data = '''Ngư60ời 'theo hư@ơng' hoa 100mây mù [giăng lối]\n",
    "Làn 25 sương khó30i phôi phai 90 đưa bư$ớc ai xa rồi 35\n",
    "100Đơn c#ôi m99ình ta {vấn vương} hồi ức tro^ng ... men say (chiều mưa) buồ80n \n",
    "Ng~ăn \"giọt lệ\" ngừng k2hiến khoé mi sầu bi.1 '''\n",
    "\n",
    "s = ''\n",
    "i = 0\n",
    "while i < len(data):\n",
    "\tif data[i] not in string.punctuation and data[i] not in string.digits:\n",
    "\t\ts = s + data[i]\n",
    "\ti = i + 1\t\n",
    "print(s)"
   ]
  },
  {
   "cell_type": "code",
   "execution_count": null,
   "metadata": {},
   "outputs": [],
   "source": [
    "#bt4\n",
    "total = 0\n",
    "for a in range(10):\n",
    "\tfor b in range(10):\n",
    "\t\tfor c in range(1,10):\n",
    "\t\t\tfor d in range(10):\n",
    "\t\t\t\tfor e in range(10):\n",
    "\t\t\t\t\tfor f in range(10):\n",
    "\t\t\t\t\t\tfor g in range(10):\n",
    "\t\t\t\t\t\t\tfor h in range(10):\n",
    "\t\t\t\t\t\t\t\tfor i in range(1,10):\n",
    "\t\t\t\t\t\t\t\t\tif a + 13 * b / c + d + 12 * e - f - 11 + g * h / i - 10 == 66:\n",
    "\t\t\t\t\t\t\t\t\t\tprint(a,b,c,d,e,f,g,h,i)\n",
    "\t\t\t\t\t\t\t\t\t\ttotal = total + 1\n",
    "\t\t\t\t\t\t\t\t\tpass\n",
    "\t\t\t\t\t\t\t\tpass\n",
    "\t\t\t\t\t\t\tpass\n",
    "\t\t\t\t\t\tpass\n",
    "\t\t\t\t\tpass\n",
    "\t\t\t\tpass\n",
    "\t\t\tpass\n",
    "\t\tpass\n",
    "\tpass\n",
    "\n",
    "\n",
    "\n",
    "print(total)"
   ]
  },
  {
   "cell_type": "code",
   "execution_count": 5,
   "metadata": {},
   "outputs": [
    {
     "name": "stdout",
     "output_type": "stream",
     "text": [
      "python = 16 + 25 + 20 + 8 + 15 + 14 = 98\n",
      "patience = 16 + 1 + 20 + 9 + 5 + 14 + 3 + 5 = 73\n",
      "documents = 4 + 15 + 3 + 21 + 13 + 5 + 14 + 20 + 19 = 114\n",
      "students = 19 + 20 + 21 + 4 + 5 + 14 + 20 + 19 = 122\n",
      "homework = 8 + 15 + 13 + 5 + 23 + 15 + 18 + 11 = 108\n",
      "practice = 16 + 18 + 1 + 3 + 20 + 9 + 3 + 5 = 75\n",
      "success = 19 + 21 + 3 + 3 + 5 + 19 + 19 = 89\n",
      "english = 5 + 14 + 7 + 12 + 9 + 19 + 8 = 74\n",
      "university = 21 + 14 + 9 + 22 + 5 + 18 + 19 + 9 + 20 + 25 = 162\n",
      "congratulation = 3 + 15 + 14 + 7 + 18 + 1 + 20 + 21 + 12 + 1 + 20 + 9 + 15 + 14 = 170\n"
     ]
    }
   ],
   "source": [
    "#bt5\n",
    "list1 = ['python', 'patience', 'documents', 'students', 'homework', 'practice', 'success', 'english', 'university', 'congratulation']\n",
    "i = 0\n",
    "while i < len(list1):\n",
    "\tsum = 0\n",
    "\tprint(list1[i], '=', end=' ')\n",
    "\tj = 0\n",
    "\twhile j < len(list1[i]):\n",
    "\t\tsum = sum + ord(list1[i][j]) - ord('a') + 1\n",
    "\t\tprint(ord(list1[i][j]) - ord('a') + 1, end= '')\n",
    "\t\tj = j + 1\n",
    "\t\tif j < len(list1[i]):\n",
    "\t\t\tprint(' + ', end='')\n",
    "\tprint(' =',sum)\n",
    "\ti = i + 1"
   ]
  },
  {
   "cell_type": "code",
   "execution_count": 1,
   "metadata": {},
   "outputs": [
    {
     "name": "stdout",
     "output_type": "stream",
     "text": [
      "1\n",
      "1\n",
      "2\n",
      "3\n",
      "5\n",
      "8\n",
      "13\n",
      "21\n",
      "34\n",
      "55\n",
      "89\n",
      "144\n",
      "233\n",
      "377\n",
      "610\n",
      "987\n"
     ]
    }
   ],
   "source": [
    "#bt6\n",
    "a = 1\n",
    "b = 0\n",
    "sum = 0\n",
    "i = 0\n",
    "list1 = []\n",
    "while 1:\n",
    "\tsum = a + b\n",
    "\ta = b\n",
    "\tb = sum\n",
    "\tif sum < 1000:\n",
    "\t\tlist1.append(sum)\n",
    "\t\tprint(list1[i])\n",
    "\t\ti = i + 1\n",
    "\t\t\n",
    "\telse:\n",
    "\t\tbreak"
   ]
  },
  {
   "cell_type": "code",
   "execution_count": 2,
   "metadata": {},
   "outputs": [
    {
     "name": "stdout",
     "output_type": "stream",
     "text": [
      "[2, 3, 5, 7, 11, 13, 17, 19, 23, 29, 31, 37, 41, 43, 47, 53, 59, 61, 67, 71, 73, 79, 83, 89, 97, 101, 103, 107, 109, 113, 127, 131, 137, 139, 149, 151, 157, 163, 167, 173, 179, 181, 191, 193, 197, 199, 211, 223, 227, 229, 233, 239, 241, 251, 257, 263, 269, 271, 277, 281, 283, 293, 307, 311, 313, 317, 331, 337, 347, 349, 353, 359, 367, 373, 379, 383, 389, 397, 401, 409, 419, 421, 431, 433, 439, 443, 449, 457, 461, 463, 467, 479, 487, 491, 499, 503, 509, 521, 523, 541, 547, 557, 563, 569, 571, 577, 587, 593, 599, 601, 607, 613, 617, 619, 631, 641, 643, 647, 653, 659, 661, 673, 677, 683, 691, 701, 709, 719, 727, 733, 739, 743, 751, 757, 761, 769, 773, 787, 797, 809, 811, 821, 823, 827, 829, 839, 853, 857, 859, 863, 877, 881, 883, 887, 907, 911, 919, 929, 937, 941, 947, 953, 967, 971, 977, 983, 991, 997]\n"
     ]
    }
   ],
   "source": [
    "#bt7\n",
    "import math\n",
    "list1 = [2,3]\n",
    "for i in range(2,1000):\n",
    "\tfor j in range(2,int(math.sqrt(i))+1):\n",
    "\t\tif i % j == 0:\n",
    "\t\t\tbreak\n",
    "\t\tif j == int(math.sqrt(i)):\n",
    "\t\t\tlist1.append(i)\t\n",
    "print(list1)"
   ]
  },
  {
   "cell_type": "code",
   "execution_count": 3,
   "metadata": {},
   "outputs": [
    {
     "name": "stdout",
     "output_type": "stream",
     "text": [
      "{'and': 20, 'python': 16, 'the': 16, 'to': 9, 'language': 6, 'in': 6, 'of': 6, 'it': 5, 'a': 5, 'for': 5}\n"
     ]
    }
   ],
   "source": [
    "#bt8\n",
    "data = '''Python is an easy to learn, powerful programming language. It has efficient high-level data structures and a simple but effective approach to object-oriented programming. Python’s elegant syntax and dynamic typing, together with its interpreted nature, make it an ideal language for scripting and rapid application development in many areas on most platforms.\n",
    "\n",
    "The Python interpreter and the extensive standard library are freely available in source or binary form for all major platforms from the Python Web site, https://www.python.org/, and may be freely distributed. The same site also contains distributions of and pointers to many free third party Python modules, programs and tools, and additional documentation.\n",
    "\n",
    "The Python interpreter is easily extended with new functions and data types implemented in C or C++ (or other languages callable from C). Python is also suitable as an extension language for customizable applications.\n",
    "\n",
    "This tutorial introduces the reader informally to the basic concepts and features of the Python language and system. It helps to have a Python interpreter handy for hands-on experience, but all examples are self-contained, so the tutorial can be read off-line as well.\n",
    "\n",
    "For a description of standard objects and modules, see The Python Standard Library. The Python Language Reference gives a more formal definition of the language. To write extensions in C or C++, read Extending and Embedding the Python Interpreter and Python/C API Reference Manual. There are also several books covering Python in depth.\n",
    "\n",
    "This tutorial does not attempt to be comprehensive and cover every single feature, or even every commonly used feature. Instead, it introduces many of Python’s most noteworthy features, and will give you a good idea of the language’s flavor and style. After reading it, you will be able to read and write Python modules and programs, and you will be ready to learn more about the various Python library modules described in The Python Standard Library.'''\n",
    "list1 = []\n",
    "list2 = []\n",
    "i = 0\n",
    "s = ''\n",
    "while i < len(data):\n",
    "\tif data[i] != ' ' and data[i] != ',' and data[i] != '.' and data[i] != '\\n' and data[i] != '(' and data[i] != ')':\n",
    "\t\ts = s + str.lower(data[i])\n",
    "\telse:\n",
    "\t\tif s != ' ' and s != ',' and s != '.' and s != '':\n",
    "\t\t\tif s not in list1:\n",
    "\t\t\t\tlist1.append(s)\n",
    "\t\t\t\tlist2.append(1)\n",
    "\t\t\telse:\n",
    "\t\t\t\tj = 0\n",
    "\t\t\t\twhile j < len(list1):\n",
    "\t\t\t\t\tif s == list1[j]:\n",
    "\t\t\t\t\t\tlist2[j] = list2 [j]+ 1\n",
    "\t\t\t\t\tj = j+1\t\t\n",
    "\t\t\ts = ''\n",
    "\ti = i + 1\n",
    "list3 = []\t\t\t\n",
    "k = 0\n",
    "while k < len(list2):\n",
    "\tlist3.append ({'words':list1[k], 'count':list2[k]})\n",
    "\tk = k+1\n",
    "def myFunc(e):\n",
    "  return e['count']\t\n",
    "list3.sort(reverse=True, key=myFunc)\n",
    "dic = dict()\n",
    "for x in range(0,10):\n",
    "\tdic[list3[x]['words']] = list3[x]['count']\n",
    "\tpass\n",
    "print(dic)\n"
   ]
  },
  {
   "cell_type": "code",
   "execution_count": 4,
   "metadata": {},
   "outputs": [
    {
     "ename": "SyntaxError",
     "evalue": "invalid syntax (<ipython-input-4-00935f319cc0>, line 9)",
     "output_type": "error",
     "traceback": [
      "\u001b[0;36m  File \u001b[0;32m\"<ipython-input-4-00935f319cc0>\"\u001b[0;36m, line \u001b[0;32m9\u001b[0m\n\u001b[0;31m    print(\"Chỉ có trong A: \", s1.difference(s2))\u001b[0m\n\u001b[0m        ^\u001b[0m\n\u001b[0;31mSyntaxError\u001b[0m\u001b[0;31m:\u001b[0m invalid syntax\n"
     ]
    }
   ],
   "source": [
    "#bt9\n",
    "L1 = [1, 2, 3, 4, 5, 6]\n",
    "L2 = [3, 4, 5, 6, 7, 8, 9, 10]\n",
    "\n",
    "s1 = set(L1)\n",
    "s2 = set(L2)\n",
    "\n",
    "print('Có trong cả A, B: ', s1.union(s2)\n",
    "print(\"Chỉ có trong A: \", s1.difference(s2))\n",
    "print(\"Chỉ có trong B: \", s2.difference(s1))\n",
    "print(\"Không có trong cả A và B: \", s1.symmetric_difference(s2))"
   ]
  },
  {
   "cell_type": "code",
   "execution_count": 5,
   "metadata": {},
   "outputs": [
    {
     "name": "stdout",
     "output_type": "stream",
     "text": [
      "[(1900, 'Canh Ti'), (1901, 'Tan Suu'), (1902, 'Nham Dan'), (1903, 'Quy Mao'), (1904, 'Giap Thin'), (1905, 'At Ty'), (1906, 'Binh Ngo'), (1907, 'Dinh Mui'), (1908, 'Mau Than'), (1909, 'Ky Dau'), (1910, 'Canh Tuat'), (1911, 'Tan Hoi'), (1912, 'Nham Ti'), (1913, 'Quy Suu'), (1914, 'Giap Dan'), (1915, 'At Mao'), (1916, 'Binh Thin'), (1917, 'Dinh Ty'), (1918, 'Mau Ngo'), (1919, 'Ky Mui'), (1920, 'Canh Than'), (1921, 'Tan Dau'), (1922, 'Nham Tuat'), (1923, 'Quy Hoi'), (1924, 'Giap Ti'), (1925, 'At Suu'), (1926, 'Binh Dan'), (1927, 'Dinh Mao'), (1928, 'Mau Thin'), (1929, 'Ky Ty'), (1930, 'Canh Ngo'), (1931, 'Tan Mui'), (1932, 'Nham Than'), (1933, 'Quy Dau'), (1934, 'Giap Tuat'), (1935, 'At Hoi'), (1936, 'Binh Ti'), (1937, 'Dinh Suu'), (1938, 'Mau Dan'), (1939, 'Ky Mao'), (1940, 'Canh Thin'), (1941, 'Tan Ty'), (1942, 'Nham Ngo'), (1943, 'Quy Mui'), (1944, 'Giap Than'), (1945, 'At Dau'), (1946, 'Binh Tuat'), (1947, 'Dinh Hoi'), (1948, 'Mau Ti'), (1949, 'Ky Suu'), (1950, 'Canh Dan'), (1951, 'Tan Mao'), (1952, 'Nham Thin'), (1953, 'Quy Ty'), (1954, 'Giap Ngo'), (1955, 'At Mui'), (1956, 'Binh Than'), (1957, 'Dinh Dau'), (1958, 'Mau Tuat'), (1959, 'Ky Hoi'), (1960, 'Canh Ti'), (1961, 'Tan Suu'), (1962, 'Nham Dan'), (1963, 'Quy Mao'), (1964, 'Giap Thin'), (1965, 'At Ty'), (1966, 'Binh Ngo'), (1967, 'Dinh Mui'), (1968, 'Mau Than'), (1969, 'Ky Dau'), (1970, 'Canh Tuat'), (1971, 'Tan Hoi'), (1972, 'Nham Ti'), (1973, 'Quy Suu'), (1974, 'Giap Dan'), (1975, 'At Mao'), (1976, 'Binh Thin'), (1977, 'Dinh Ty'), (1978, 'Mau Ngo'), (1979, 'Ky Mui'), (1980, 'Canh Than'), (1981, 'Tan Dau'), (1982, 'Nham Tuat'), (1983, 'Quy Hoi'), (1984, 'Giap Ti'), (1985, 'At Suu'), (1986, 'Binh Dan'), (1987, 'Dinh Mao'), (1988, 'Mau Thin'), (1989, 'Ky Ty'), (1990, 'Canh Ngo'), (1991, 'Tan Mui'), (1992, 'Nham Than'), (1993, 'Quy Dau'), (1994, 'Giap Tuat'), (1995, 'At Hoi'), (1996, 'Binh Ti'), (1997, 'Dinh Suu'), (1998, 'Mau Dan'), (1999, 'Ky Mao'), (2000, 'Canh Thin'), (2001, 'Tan Ty'), (2002, 'Nham Ngo'), (2003, 'Quy Mui'), (2004, 'Giap Than'), (2005, 'At Dau'), (2006, 'Binh Tuat'), (2007, 'Dinh Hoi'), (2008, 'Mau Ti'), (2009, 'Ky Suu'), (2010, 'Canh Dan'), (2011, 'Tan Mao'), (2012, 'Nham Thin'), (2013, 'Quy Ty'), (2014, 'Giap Ngo'), (2015, 'At Mui'), (2016, 'Binh Than'), (2017, 'Dinh Dau'), (2018, 'Mau Tuat'), (2019, 'Ky Hoi')]\n"
     ]
    }
   ],
   "source": [
    "#bt10\n",
    "list2 = ['Ti', 'Suu', 'Dan', 'Mao', 'Thin', 'Ty','Ngo', 'Mui','Than', 'Dau','Tuat', 'Hoi']\n",
    "list1 = ['Canh', 'Tan' ,'Nham','Quy', 'Giap', 'At', 'Binh', 'Dinh' , 'Mau' , 'Ky']\n",
    "years = []\n",
    "for i in range(1900,2020):\n",
    "\tyears.append((i,list1[i%10]+ ' ' +list2[i%12-4]))\n",
    "print(years)"
   ]
  }
 ],
 "metadata": {
  "kernelspec": {
   "display_name": "Python 3",
   "language": "python",
   "name": "python3"
  },
  "language_info": {
   "codemirror_mode": {
    "name": "ipython",
    "version": 3
   },
   "file_extension": ".py",
   "mimetype": "text/x-python",
   "name": "python",
   "nbconvert_exporter": "python",
   "pygments_lexer": "ipython3",
   "version": "3.7.3"
  }
 },
 "nbformat": 4,
 "nbformat_minor": 2
}
